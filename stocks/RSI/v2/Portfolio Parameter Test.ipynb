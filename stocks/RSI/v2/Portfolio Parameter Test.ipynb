{
 "cells": [
  {
   "cell_type": "code",
   "execution_count": null,
   "id": "b276ca9b-0b47-4923-a628-4cd8262ffe76",
   "metadata": {},
   "outputs": [],
   "source": [
    "#This is the random parameter test \n",
    "#It randomly chooses 100 different combinations of the buy and sell paramaters\n",
    "#Then backtests the strat with these parameters for the whole s&p 500 over a 1y period\n",
    "#And returns the portfolio return and sharpe ratio\n",
    "\n",
    "#3726s for 100 portfolios (an hour for 100)"
   ]
  },
  {
   "cell_type": "code",
   "execution_count": null,
   "id": "6856695f-6da1-4805-a92e-8000a3ff7286",
   "metadata": {},
   "outputs": [],
   "source": [
    "import warnings\n",
    "warnings.simplefilter(action='ignore', category=FutureWarning)\n",
    "\n",
    "import yfinance as yf\n",
    "import pandas as pd\n",
    "import numpy as np\n",
    "import matplotlib.pyplot as plt\n",
    "from pytickersymbols import PyTickerSymbols\n",
    "\n",
    "warnings.simplefilter(action='ignore', category=pd.errors.PerformanceWarning)\n",
    "\n",
    "pd.options.mode.chained_assignment = None  # default='warn'"
   ]
  },
  {
   "cell_type": "code",
   "execution_count": null,
   "id": "8c878ba5-82b7-4345-a25b-eac03458ec33",
   "metadata": {},
   "outputs": [],
   "source": [
    "# Download stock data using yfinance\n",
    "def get_stock_data(ticker, period):\n",
    "    data = yf.download(ticker, period = period, interval = \"1d\")\n",
    "    return data"
   ]
  },
  {
   "cell_type": "code",
   "execution_count": null,
   "id": "ee08b1c2-3c8b-4bf3-8ef6-7ec2cadb5d61",
   "metadata": {},
   "outputs": [],
   "source": [
    "# Calculate RSI manually using pandas\n",
    "def calculate_rsi(data, rsi_period):\n",
    "    delta = data['Adj Close'].diff(1)\n",
    "    gain = (delta.where(delta > 0, 0)).rolling(window=rsi_period).mean()\n",
    "    loss = (-delta.where(delta < 0, 0)).rolling(window=rsi_period).mean()\n",
    "    rs = gain / loss\n",
    "    data['RSI'] = 100 - (100 / (1 + rs))\n",
    "    return data"
   ]
  },
  {
   "cell_type": "code",
   "execution_count": null,
   "id": "6da3ae3c-ab12-4be3-bb35-88236bf10c52",
   "metadata": {},
   "outputs": [],
   "source": [
    "# Implement the trading strategy with stop-sell condition\n",
    "def trading_strategy(data, buy, sell, days, rsi_period):\n",
    "    data = calculate_rsi(data, rsi_period)\n",
    "    \n",
    "    position = 0  # 1 means we own the stock, 0 means we don't\n",
    "    holding_period = 0  # Track how long we’ve held the position\n",
    "    max_holding_days = days  # Stop-sell after 5 days\n",
    "    buy_price = 0\n",
    "    data['Signal'] = 0\n",
    "\n",
    "    for i in range(1, len(data)):\n",
    "        if data['RSI'][i-1] < buy and data['RSI'][i] >= buy and position == 0:\n",
    "            # Buy signal: RSI crosses from below 51 to above 51\n",
    "            position = 1\n",
    "            holding_period = 1  # Reset holding period counter on buy\n",
    "            buy_price = data['Adj Close'][i]\n",
    "            data['Signal'][i] = 1  # 1 for buy\n",
    "            #print(f\"Bought at {buy_price} on {data.index[i]}\")\n",
    "        \n",
    "        elif position == 1:\n",
    "            holding_period += 1\n",
    "            \n",
    "            # Sell signal: RSI crosses from below 71 to above 71 or stop-sell after 5 days\n",
    "            if (data['RSI'][i-1] < sell and data['RSI'][i] >= sell) or holding_period > max_holding_days:\n",
    "                position = 0\n",
    "                sell_price = data['Adj Close'][i]\n",
    "                data['Signal'][i] = -1  # -1 for sell\n",
    "                #print(f\"Sold at {sell_price} on {data.index[i]} (held for {holding_period - 1} days)\")\n",
    "                holding_period = 0  # Reset the holding period after selling\n",
    "    \n",
    "    return data"
   ]
  },
  {
   "cell_type": "code",
   "execution_count": null,
   "id": "6ce772a8-4b09-4438-8d5c-8c03749f9f35",
   "metadata": {},
   "outputs": [],
   "source": [
    "# Backtest the strategy\n",
    "def backtest(data):\n",
    "    # Create Position column where we hold the stock only between buy and sell signals\n",
    "    data['Position'] = 0  # Initialize the position as no stock held\n",
    "\n",
    "    for i in range(1, len(data)):\n",
    "        if data['Signal'][i] == 1:  # Buy signal\n",
    "            data['Position'][i] = 1\n",
    "        elif data['Signal'][i] == -1:  # Sell signal\n",
    "            data['Position'][i] = 0\n",
    "        else:\n",
    "            data['Position'][i] = data['Position'][i-1]  # Continue holding or not\n",
    "\n",
    "    # Calculate daily returns\n",
    "    data['Daily Return'] = data['Adj Close'].pct_change()\n",
    "    \n",
    "    # Strategy returns only when we're in position\n",
    "    data['Strategy Return'] = data['Daily Return'] * data['Position'].shift(1)\n",
    "    \n",
    "    # Set returns to 0 for days when not holding a position\n",
    "    data['Strategy Return'].fillna(0, inplace=True)\n",
    "\n",
    "    # Calculate cumulative returns\n",
    "    data['Cumulative Market Return'] = (1 + data['Daily Return']).cumprod()\n",
    "    data['Cumulative Strategy Return'] = (1 + data['Strategy Return']).cumprod()\n",
    "    \n",
    "    return data"
   ]
  },
  {
   "cell_type": "code",
   "execution_count": null,
   "id": "ca28ba52-b05b-4366-93f6-2efd26675374",
   "metadata": {},
   "outputs": [],
   "source": [
    "def backtest_portfolio(pulled_data, symbols, buy, sell, days, rsi_period):\n",
    "    portfolio_returns = pd.DataFrame()\n",
    "\n",
    "    for symbol in symbols:\n",
    "        #print(f\"Processing {symbol}...\")\n",
    "        try:\n",
    "            individual_stock_data = pulled_data[symbol]\n",
    "            if len(individual_stock_data) == 0:  # Skip symbols with no data\n",
    "                continue\n",
    "            \n",
    "            individual_stock_data = trading_strategy(individual_stock_data, buy, sell, days, rsi_period)\n",
    "            individual_stock_data = backtest(individual_stock_data)\n",
    "            \n",
    "            # Store strategy return for each stock\n",
    "            portfolio_returns[symbol] = individual_stock_data['Strategy Return']\n",
    "        except Exception as e:\n",
    "            print(f\"Error processing {symbol}: {e}\")\n",
    "\n",
    "    # Average the returns of all stocks to simulate equal weighting\n",
    "    portfolio_returns['Portfolio Return'] = portfolio_returns.mean(axis=1)\n",
    "    \n",
    "    # Calculate cumulative returns for the portfolio\n",
    "    portfolio_returns['Cumulative Portfolio Return'] = (1 + portfolio_returns['Portfolio Return']).cumprod()\n",
    "\n",
    "    total_strategy_return = (portfolio_returns['Cumulative Portfolio Return'].iloc[-1] - 1)*100\n",
    "    total_strategy_return = \"{:.2f}%\".format(total_strategy_return)\n",
    "\n",
    "    days = 252\n",
    "    risk_free_rate=0.045\n",
    "    \n",
    "    #Sharpe Ratio\n",
    "    annualized_return = ((1 + portfolio_returns['Portfolio Return'].mean()) ** days) - 1\n",
    "    annualized_volatility = portfolio_returns['Portfolio Return'].std() * np.sqrt(days)\n",
    "    sharpe_ratio = (annualized_return - risk_free_rate) / annualized_volatility\n",
    "\n",
    "    return total_strategy_return, sharpe_ratio"
   ]
  },
  {
   "cell_type": "code",
   "execution_count": null,
   "id": "2440aec3-60ee-4cdd-ad60-a594580c17ad",
   "metadata": {},
   "outputs": [],
   "source": [
    "def main_portfolio(pulled_data, symbols, buy, sell, days, rsi_period):\n",
    "    # Backtest the portfolio\n",
    "    total_return, sharpe_ratio = backtest_portfolio(pulled_data, symbols, buy, sell, days, rsi_period)\n",
    "\n",
    "    new_row = pd.DataFrame({'Buy': [buy], 'Sell': [sell],'Max Holding Days': [days], 'Rsi Period': [rsi_period] , 'Returns': [total_return], 'Sharpe': [sharpe_ratio], })\n",
    "               \n",
    "    return new_row\n"
   ]
  },
  {
   "cell_type": "code",
   "execution_count": null,
   "id": "0e541ef4-c647-4da4-9bf4-d0810080a888",
   "metadata": {},
   "outputs": [],
   "source": [
    "def generate_portfolios(num_portfolios):\n",
    "    #parameters = pd.DataFrame({'Buy':[], 'Sell':[], 'Returns':[], 'Sharpe':[]})\n",
    "    #parameters.set_index('Buy', inplace=True)\n",
    "    parameters = pd.DataFrame(columns=['Buy', 'Sell', 'Max Holding Days', 'Rsi Period', 'Returns', 'Sharpe'])\n",
    "\n",
    "    stock_data = PyTickerSymbols()\n",
    "    sp500_symbols = stock_data.get_stocks_by_index('S&P 500')\n",
    "    symbols = [stock['symbol'] for stock in sp500_symbols]  # S&P 500 stock symbols\n",
    "    #symbols = [\"NVDA\", \"AAPL\", \"COIN\", \"MSTR\"]\n",
    "\n",
    "    pulled_data = yf.download(symbols, period = \"1y\", interval = \"1d\", group_by=\"ticker\") #Pulling all the data for all the stocks\n",
    "\n",
    "    \n",
    "    for i in range(num_portfolios):\n",
    "        buy = np.random.randint(50, 101)\n",
    "        sell = np.random.randint(buy + 1, 121)\n",
    "        days = np.random.randint(3, 9)\n",
    "        rsi_period = np.random.choice([7, 14, 30])\n",
    "        new_row = main_portfolio(pulled_data, symbols, buy, sell, days, rsi_period)\n",
    "        parameters = pd.concat([parameters, new_row])\n",
    "\n",
    "    return parameters\n"
   ]
  },
  {
   "cell_type": "code",
   "execution_count": null,
   "id": "068b0bef-925b-4db8-a15d-dc3187bc2930",
   "metadata": {},
   "outputs": [],
   "source": [
    "df = generate_portfolios(100)\n",
    "df"
   ]
  },
  {
   "cell_type": "code",
   "execution_count": null,
   "id": "e1370752-289b-4f7c-8ee6-a6fe654a4502",
   "metadata": {},
   "outputs": [],
   "source": [
    "df.to_csv('Parameters test s&p500 v1.csv', index=True)"
   ]
  },
  {
   "cell_type": "code",
   "execution_count": null,
   "id": "6cb315e2-d4b4-45ce-b978-400685384afd",
   "metadata": {},
   "outputs": [],
   "source": []
  }
 ],
 "metadata": {
  "kernelspec": {
   "display_name": "Python 3 (ipykernel)",
   "language": "python",
   "name": "python3"
  },
  "language_info": {
   "codemirror_mode": {
    "name": "ipython",
    "version": 3
   },
   "file_extension": ".py",
   "mimetype": "text/x-python",
   "name": "python",
   "nbconvert_exporter": "python",
   "pygments_lexer": "ipython3",
   "version": "3.12.7"
  }
 },
 "nbformat": 4,
 "nbformat_minor": 5
}
