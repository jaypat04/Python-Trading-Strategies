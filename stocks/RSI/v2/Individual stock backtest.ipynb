{
 "cells": [
  {
   "cell_type": "code",
   "execution_count": null,
   "id": "6856695f-6da1-4805-a92e-8000a3ff7286",
   "metadata": {},
   "outputs": [],
   "source": [
    "import warnings\n",
    "warnings.simplefilter(action='ignore', category=FutureWarning)\n",
    "\n",
    "import yfinance as yf\n",
    "import pandas as pd\n",
    "import numpy as np\n",
    "import matplotlib.pyplot as plt\n",
    "\n",
    "from pytickersymbols import PyTickerSymbols\n",
    "\n",
    "pd.options.mode.chained_assignment = None  # default='warn'"
   ]
  },
  {
   "cell_type": "code",
   "execution_count": null,
   "id": "8c878ba5-82b7-4345-a25b-eac03458ec33",
   "metadata": {},
   "outputs": [],
   "source": [
    "# Download stock data using yfinance\n",
    "def get_stock_data(ticker, start, end):\n",
    "    data = yf.download(ticker, start=start, end=end)\n",
    "    return data"
   ]
  },
  {
   "cell_type": "code",
   "execution_count": null,
   "id": "ee08b1c2-3c8b-4bf3-8ef6-7ec2cadb5d61",
   "metadata": {},
   "outputs": [],
   "source": [
    "# Calculate RSI manually using pandas\n",
    "def calculate_rsi(data, period=14):\n",
    "    delta = data['Adj Close'].diff(1)\n",
    "    gain = (delta.where(delta > 0, 0)).rolling(window=period).mean()\n",
    "    loss = (-delta.where(delta < 0, 0)).rolling(window=period).mean()\n",
    "    rs = gain / loss\n",
    "    data['RSI'] = 100 - (100 / (1 + rs))\n",
    "    return data"
   ]
  },
  {
   "cell_type": "code",
   "execution_count": null,
   "id": "6da3ae3c-ab12-4be3-bb35-88236bf10c52",
   "metadata": {},
   "outputs": [],
   "source": [
    "# Implement the trading strategy with stop-sell condition\n",
    "def trading_strategy(data):\n",
    "    position = 0  # 1 means we own the stock, 0 means we don't\n",
    "    holding_period = 0  # Track how long we’ve held the position\n",
    "    max_holding_days = 5  # Stop-sell after 5 days\n",
    "    buy_price = 0\n",
    "    data['Signal'] = 0\n",
    "\n",
    "    for i in range(1, len(data)):\n",
    "        if data['RSI'][i-1] < 51 and data['RSI'][i] >= 51 and position == 0:\n",
    "            # Buy signal: RSI crosses from below 51 to above 51\n",
    "            position = 1\n",
    "            holding_period = 1  # Reset holding period counter on buy\n",
    "            buy_price = data['Adj Close'][i]\n",
    "            data['Signal'][i] = 1  # 1 for buy\n",
    "            print(f\"Bought at {buy_price} on {data.index[i]}\")\n",
    "        \n",
    "        elif position == 1:\n",
    "            holding_period += 1\n",
    "            \n",
    "            # Sell signal: RSI crosses from below 71 to above 71 or stop-sell after 5 days\n",
    "            if (data['RSI'][i-1] < 71 and data['RSI'][i] >= 71) or holding_period > max_holding_days:\n",
    "                position = 0\n",
    "                sell_price = data['Adj Close'][i]\n",
    "                data['Signal'][i] = -1  # -1 for sell\n",
    "                print(f\"Sold at {sell_price} on {data.index[i]} (held for {holding_period - 1} days)\")\n",
    "                holding_period = 0  # Reset the holding period after selling\n",
    "    \n",
    "    return data"
   ]
  },
  {
   "cell_type": "code",
   "execution_count": null,
   "id": "6ce772a8-4b09-4438-8d5c-8c03749f9f35",
   "metadata": {},
   "outputs": [],
   "source": [
    "# Backtest the strategy\n",
    "def backtest(data):\n",
    "    # Create Position column where we hold the stock only between buy and sell signals\n",
    "    data['Position'] = 0  # Initialize the position as no stock held\n",
    "\n",
    "    for i in range(1, len(data)):\n",
    "        if data['Signal'][i] == 1:  # Buy signal\n",
    "            data['Position'][i] = 1\n",
    "        elif data['Signal'][i] == -1:  # Sell signal\n",
    "            data['Position'][i] = 0\n",
    "        else:\n",
    "            data['Position'][i] = data['Position'][i-1]  # Continue holding or not\n",
    "\n",
    "    # Calculate daily returns\n",
    "    data['Daily Return'] = data['Adj Close'].pct_change()\n",
    "    \n",
    "    # Strategy returns only when we're in position\n",
    "    data['Strategy Return'] = data['Daily Return'] * data['Position'].shift(1)\n",
    "    \n",
    "    # Set returns to 0 for days when not holding a position\n",
    "    data['Strategy Return'].fillna(0, inplace=True)\n",
    "\n",
    "    # Calculate cumulative returns\n",
    "    data['Cumulative Market Return'] = (1 + data['Daily Return']).cumprod()\n",
    "    data['Cumulative Strategy Return'] = (1 + data['Strategy Return']).cumprod()\n",
    "\n",
    "    total_strategy_return = (data['Cumulative Strategy Return'].iloc[-1] * 100) - 1\n",
    "    total_strategy_return = \"{:.2f}%\".format(total_strategy_return)\n",
    "\n",
    "    return total_strategy_return"
   ]
  },
  {
   "cell_type": "code",
   "execution_count": null,
   "id": "ae6e0916-f229-4c92-adae-f44c6baac836",
   "metadata": {},
   "outputs": [],
   "source": [
    "# Plot the results\n",
    "def plot_results(data):\n",
    "    plt.figure(figsize=(14, 7))\n",
    "    plt.plot(data['Cumulative Market Return'], label='Market Return')\n",
    "    plt.plot(data['Cumulative Strategy Return'], label='Strategy Return', linestyle='--')\n",
    "    plt.title('Market vs Strategy Performance')\n",
    "    plt.legend()\n",
    "    plt.show()"
   ]
  },
  {
   "cell_type": "code",
   "execution_count": null,
   "id": "f51c4bcc-e8ac-4898-b7dc-7dbeced1c18b",
   "metadata": {},
   "outputs": [],
   "source": [
    "#  Single Main function\n",
    "def main_single():\n",
    "    stock_data = PyTickerSymbols()\n",
    "    sp500_symbols = stock_data.get_stocks_by_index('S&P 500')\n",
    "    #symbols = [stock['symbol'] for stock in sp500_symbols]  # S&P 500 stock symbols\n",
    "    #symbols = ['AAPL', 'NVDA']\n",
    "    symbol = 'AAPL'\n",
    "\n",
    "    #returns= pd.DataFrame()\n",
    "\n",
    "    start = '2023-10-17'\n",
    "    end = '2024-10-17'\n",
    "    \n",
    "    data = get_stock_data(symbol, start, end)\n",
    "    data = get_stock_data(symbol, start, end)\n",
    "    data = calculate_rsi(data)\n",
    "    data = trading_strategy(data)\n",
    "    data = backtest(data)\n",
    "    #print(data)\n",
    "\n",
    "    #returns[symbol] = data\n",
    "\n",
    "    return data\n",
    "main_single()"
   ]
  },
  {
   "cell_type": "code",
   "execution_count": null,
   "id": "77a96e84-e364-4a3e-a6f6-01cada5f2b06",
   "metadata": {},
   "outputs": [],
   "source": [
    "#df.to_csv('temp test.csv', index=True)"
   ]
  }
 ],
 "metadata": {
  "kernelspec": {
   "display_name": "Python 3 (ipykernel)",
   "language": "python",
   "name": "python3"
  },
  "language_info": {
   "codemirror_mode": {
    "name": "ipython",
    "version": 3
   },
   "file_extension": ".py",
   "mimetype": "text/x-python",
   "name": "python",
   "nbconvert_exporter": "python",
   "pygments_lexer": "ipython3",
   "version": "3.12.7"
  }
 },
 "nbformat": 4,
 "nbformat_minor": 5
}
