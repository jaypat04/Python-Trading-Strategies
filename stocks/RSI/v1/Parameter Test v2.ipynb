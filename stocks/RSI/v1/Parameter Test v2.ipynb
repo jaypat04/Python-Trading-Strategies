{
 "cells": [
  {
   "cell_type": "code",
   "execution_count": null,
   "id": "e3ad909b-17c1-4ec9-9916-d4e54dc3a3cd",
   "metadata": {},
   "outputs": [],
   "source": [
    "import warnings\n",
    "warnings.simplefilter(action='ignore', category=FutureWarning)\n",
    "\n",
    "import yfinance as yf\n",
    "import pandas as pd\n",
    "import numpy as np\n",
    "import matplotlib.pyplot as plt\n",
    "\n",
    "from pytickersymbols import PyTickerSymbols\n",
    "\n",
    "pd.options.mode.chained_assignment = None  # default='warn'"
   ]
  },
  {
   "cell_type": "code",
   "execution_count": null,
   "id": "f4a27b92-2841-4486-aaa0-dfc0a47ccf69",
   "metadata": {},
   "outputs": [],
   "source": [
    "#This function calculates the RSI\n",
    "def RSI(data, window=14):\n",
    "    #daily_data = data.resample('D').last()\n",
    "    \n",
    "    delta = data['Close'].diff(1)\n",
    "    gain = delta.where(delta > 0, 0)\n",
    "    loss = -delta.where(delta < 0, 0)\n",
    "\n",
    "    avg_gain = gain.rolling(window=window, min_periods=1).mean()\n",
    "    avg_loss = loss.rolling(window=window, min_periods=1).mean()\n",
    "\n",
    "    rs = avg_gain / avg_loss\n",
    "    rsi = 100 - (100 / (1 + rs))\n",
    "    \n",
    "    return rsi\n",
    "\n",
    "#The function that calculates the strategies returns for each individual stock\n",
    "def strat(data, ticker, buy, sell):     \n",
    "    # Calculate RSI and add it to the DataFrame\n",
    "    data['RSI'] = RSI(data)\n",
    "    \n",
    "    # Define the buy and sell conditions based on RSI\n",
    "    data['Signal'] = 0\n",
    "    data['Signal'][data['RSI'] > buy] = 1   # Buy signal\n",
    "    data['Signal'][data['RSI'] > sell] = -1  # Sell signal\n",
    "    \n",
    "    # Shift signals so we enter positions on the next day\n",
    "    data['Position'] = data['Signal'].shift(1)\n",
    "    \n",
    "    \n",
    "    # Calculate daily returns\n",
    "    data['Daily Return'] = data['Close'].pct_change()\n",
    "    # Calculate strategy returns: Position * Daily Return\n",
    "    data[ticker] = data['Position'] * data['Daily Return']\n",
    "    \n",
    "    return data[ticker]"
   ]
  },
  {
   "cell_type": "code",
   "execution_count": null,
   "id": "9518299b-fc7f-43eb-aa1d-897a9d367f59",
   "metadata": {},
   "outputs": [],
   "source": [
    "def calculate_portfolio_sharpe_ratio(daily, risk_free_rate=0.045):\n",
    "    daily = daily.drop(daily.index[0]) #drops the inital row \n",
    "\n",
    "    #Removes any stocks that are missing data\n",
    "    if daily.isnull().values.any():\n",
    "        #print(f\"Warning: Missing data for some stocks in the portfolio.\")\n",
    "        null_counts = daily.isnull().sum()  # Get the number of nulls per column\n",
    "        non_zero_nulls = null_counts[null_counts > 0]  # Filter out the columns where null count is 0\n",
    "        #print(non_zero_nulls)  Print only columns with null values\n",
    "        daily = daily.dropna(axis=1, how='any')  # Drop stocks with missing data\n",
    "\n",
    "    num = daily.shape[1] #Number of stocks in the portfolio\n",
    "    weight = [1 / num] * num #An array of equal weighting of stocks\n",
    "    weights = np.array(weight) #Converts weight to a numpy array\n",
    "    \n",
    "    portfolio_daily_returns = daily.dot(weights) #Calculates the daily strategy returns of the whole portfolio\n",
    "    \n",
    "    # Calculate annualized return for the portfolio\n",
    "    annualized_return = ((1 + portfolio_daily_returns.mean()) ** 252) - 1\n",
    "\n",
    "    # Calculate annualized volatility (standard deviation) for the portfolio\n",
    "    annualized_volatility = portfolio_daily_returns.std() * np.sqrt(252)\n",
    "    \n",
    "    # Sharpe ratio formula: (Expected Return - Risk-Free Rate) / Volatility\n",
    "    sharpe_ratio = (annualized_return - risk_free_rate) / annualized_volatility\n",
    "    \n",
    "    return sharpe_ratio"
   ]
  },
  {
   "cell_type": "code",
   "execution_count": null,
   "id": "ad2da714-e33c-40ba-bfe0-473a46dc3915",
   "metadata": {},
   "outputs": [],
   "source": [
    "#Creating an empty df to hold the results\n",
    "parameters = pd.DataFrame({'Parameters':[], 'Sharpe':[]})\n",
    "parameters.set_index('Parameters', inplace=True)\n"
   ]
  },
  {
   "cell_type": "code",
   "execution_count": null,
   "id": "9d0c5f66-ce8d-41da-9805-9191d138c94c",
   "metadata": {},
   "outputs": [],
   "source": [
    "#Importing the s&p500 stock list\n",
    "stock_data = PyTickerSymbols()\n",
    "sp500_symbols = stock_data.get_stocks_by_index('S&P 500')\n",
    "symbols = [stock['symbol'] for stock in sp500_symbols]\n",
    "#symbols = [\"AAPL\", \"NVDA\", \"MSTR\"] #Test data\n",
    "\n",
    "pulled_data = yf.download(symbols, period = \"1y\", interval = \"1d\", group_by=\"ticker\") #Pulling all the data for all the stocks\n",
    "\n",
    "#Loops through each parameters going from buy(50-100), sell(70-120), keeping a 20 spread\n",
    "sell = 60\n",
    "for buy in range(40,101):\n",
    "    #Creating an empty dataframe that will hold the daily strategy returns of each stock \n",
    "    daily = pd.DataFrame({'Date': []})\n",
    "    daily.set_index('Date', inplace=True)\n",
    "\n",
    "    #Loops through each stock in the s&p500\n",
    "    for symbol in symbols:\n",
    "        #Uses the functions above to calculate the strat daily returns for the stock and stores it in the daily df\n",
    "        individual_stock_data = pulled_data[symbol]\n",
    "        strategy_returns = strat(individual_stock_data, symbol, buy, sell)\n",
    "        daily = pd.concat([daily, strategy_returns], axis=1)\n",
    "\n",
    "    #Calculates the sharpe ratio for the portfolio and stores it in the parameters df\n",
    "    sharpe = calculate_portfolio_sharpe_ratio(daily)\n",
    "    pars = str(buy) + \",\" + str(sell)\n",
    "    new_row = pd.DataFrame({'Sharpe': [sharpe]}, index=[pars])\n",
    "    parameters = pd.concat([parameters, new_row])\n",
    "    \n",
    "    sell += 1"
   ]
  },
  {
   "cell_type": "code",
   "execution_count": null,
   "id": "2a0bff8c-7554-4d90-b082-538e6c8c4af6",
   "metadata": {
    "scrolled": true
   },
   "outputs": [],
   "source": [
    "parameters"
   ]
  },
  {
   "cell_type": "code",
   "execution_count": null,
   "id": "368600d2-19db-4ba9-ab44-ee565aa6a227",
   "metadata": {},
   "outputs": [],
   "source": [
    "parameters.to_csv('40 start 1y.csv', index=True)"
   ]
  }
 ],
 "metadata": {
  "kernelspec": {
   "display_name": "Python 3 (ipykernel)",
   "language": "python",
   "name": "python3"
  },
  "language_info": {
   "codemirror_mode": {
    "name": "ipython",
    "version": 3
   },
   "file_extension": ".py",
   "mimetype": "text/x-python",
   "name": "python",
   "nbconvert_exporter": "python",
   "pygments_lexer": "ipython3",
   "version": "3.12.7"
  }
 },
 "nbformat": 4,
 "nbformat_minor": 5
}
