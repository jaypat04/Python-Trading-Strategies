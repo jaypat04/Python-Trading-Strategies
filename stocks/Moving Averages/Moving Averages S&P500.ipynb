{
 "cells": [
  {
   "cell_type": "code",
   "execution_count": 1,
   "id": "1795f021-3c05-47fd-923b-687e433c64b4",
   "metadata": {},
   "outputs": [],
   "source": [
    "import warnings\n",
    "warnings.simplefilter(action='ignore', category=FutureWarning)\n",
    "\n",
    "import yfinance as yf\n",
    "import pandas as pd\n",
    "import numpy as np\n",
    "import matplotlib.pyplot as plt\n",
    "\n",
    "from pytickersymbols import PyTickerSymbols\n",
    "\n",
    "pd.options.mode.chained_assignment = None  # default='warn'"
   ]
  },
  {
   "cell_type": "code",
   "execution_count": 2,
   "id": "f12161a5-8049-4643-b24b-e95d6d268f3c",
   "metadata": {},
   "outputs": [],
   "source": [
    "#This Cell Block is all the functions for the strat. This is the only cell block that needs to be changed to backtest a different strategy.\n",
    "\n",
    "def strat(ticker, period):   \n",
    "    #Import your strat code here\n",
    "\n",
    "    data = yf.download(ticker, period = period, interval = \"1d\")\n",
    "\n",
    "    short_window = 7  # Short-term moving average window\n",
    "    long_window = 60   # Long-term moving average window\n",
    "\n",
    "    data['Short_MA'] = data['Close'].rolling(window=short_window, min_periods=1).mean()\n",
    "    data['Long_MA'] = data['Close'].rolling(window=long_window, min_periods=1).mean()\n",
    "    \n",
    "    data['Signal'] = 0\n",
    "    data['Signal'][data['Short_MA'] > data['Long_MA']] = 1  # Buy signal\n",
    "    data['Signal'][data['Short_MA'] < data['Long_MA']] = -1  # Sell signal\n",
    "\n",
    "    data['Position'] = data['Signal'].shift(1)\n",
    "\n",
    "    # Calculate daily returns\n",
    "    data['Daily Return'] = data['Close'].pct_change()\n",
    "    # Calculate strategy returns: Position * Daily Return\n",
    "    data['Strategy Return'] = data['Position'] * data['Daily Return']\n",
    "    \n",
    "    # Calculate cumulative returns\n",
    "    data['Cumulative Market Return'] = (1 + data['Daily Return']).cumprod() - 1\n",
    "    data['Cumulative Strategy Return'] = (1 + data['Strategy Return']).cumprod() - 1\n",
    "\n",
    "    total_strategy_return = data['Cumulative Strategy Return'].iloc[-1] * 100\n",
    "    total_strategy_return = \"{:.2f}%\".format(total_strategy_return)\n",
    "    \n",
    "    return total_strategy_return        "
   ]
  },
  {
   "cell_type": "code",
   "execution_count": 3,
   "id": "38a6e5bd-f5fa-4b0d-81f8-8bc580458c0e",
   "metadata": {},
   "outputs": [],
   "source": [
    "#The backtesting function to backtest the strat over different periods\n",
    "def backtest_strat(ticker):\n",
    "    backtest_data = {\n",
    "        'Asset': [ticker],\n",
    "        'YTD': [strat(ticker, \"ytd\")],\n",
    "        'Whole Period': [strat(ticker, \"max\")],\n",
    "        'Last 10Y': [strat(ticker, \"10y\")],\n",
    "        'Last 5Y': [strat(ticker, \"5y\")],\n",
    "        'Last 2Y': [strat(ticker, \"2y\")],\n",
    "        'Last 1Y': [strat(ticker, \"1y\")],\n",
    "        'Last 6M': [strat(ticker, \"6mo\")],\n",
    "        'Last 3M': [strat(ticker, \"3mo\")],\n",
    "        'Last 1M': [strat(ticker, \"1mo\")]    }\n",
    "    \n",
    "    # Create a pandas dataframe\n",
    "    backtest_df = pd.DataFrame(backtest_data)\n",
    "    \n",
    "    # Set the first column as the index for clarity\n",
    "    backtest_df.set_index('Asset', inplace=True)\n",
    "    return backtest_df"
   ]
  },
  {
   "cell_type": "code",
   "execution_count": 4,
   "id": "03572d7a-aee3-4a68-a4d3-ba7b88038be4",
   "metadata": {},
   "outputs": [],
   "source": [
    "#Creates an empty dataframe to store the backtest data\n",
    "df =pd.DataFrame({\n",
    "        'Asset': [],'YTD': [], 'Whole Period': [], 'Last 10Y': [], 'Last 5Y': [], 'Last 2Y': [], 'Last 1Y': [], 'Last 6M': [], 'Last 3M': [], 'Last 1M': []\n",
    "    })\n",
    "\n",
    "df.set_index('Asset', inplace=True)"
   ]
  },
  {
   "cell_type": "code",
   "execution_count": null,
   "id": "8ddd7425-6401-4db1-8e13-8aa7df4ec325",
   "metadata": {},
   "outputs": [],
   "source": [
    "#Fetching the tickers for the S&P 500\n",
    "#This will take like 10mins to execute\n",
    "stock_data = PyTickerSymbols()\n",
    "sp500_symbols = stock_data.get_stocks_by_index('S&P 500')\n",
    "symbols = [stock['symbol'] for stock in sp500_symbols]\n",
    "\n",
    "#Test Symbols\n",
    "#symbols = [\"TSLA\", \"NVDA\", \"AAPL\", \"MSFT\", \"MSTR\", \"AMZN\", \"META\", \"INTC\"]\n",
    "\n",
    "#Running the stocks through the strat and backtesting functions\n",
    "for symbol in symbols:\n",
    "    try:\n",
    "        df = pd.concat([df, backtest_strat(symbol)])\n",
    "    except IndexError:\n",
    "        pass\n",
    "\n",
    "df"
   ]
  },
  {
   "cell_type": "code",
   "execution_count": 7,
   "id": "1a08a865-7528-4074-b3d0-f8fab369321a",
   "metadata": {},
   "outputs": [],
   "source": [
    "#Saves the dataframe to a csv file. Edit the name\n",
    "df.to_csv('Moving Averages short 7 long 60.csv', index=True)"
   ]
  },
  {
   "cell_type": "code",
   "execution_count": null,
   "id": "5bcae177-b3bc-4fc8-bb82-13739a684ec5",
   "metadata": {},
   "outputs": [],
   "source": []
  }
 ],
 "metadata": {
  "kernelspec": {
   "display_name": "Python 3 (ipykernel)",
   "language": "python",
   "name": "python3"
  },
  "language_info": {
   "codemirror_mode": {
    "name": "ipython",
    "version": 3
   },
   "file_extension": ".py",
   "mimetype": "text/x-python",
   "name": "python",
   "nbconvert_exporter": "python",
   "pygments_lexer": "ipython3",
   "version": "3.12.7"
  }
 },
 "nbformat": 4,
 "nbformat_minor": 5
}
