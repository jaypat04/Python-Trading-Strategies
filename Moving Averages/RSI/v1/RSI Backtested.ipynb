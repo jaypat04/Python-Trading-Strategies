{
 "cells": [
  {
   "cell_type": "code",
   "execution_count": 1,
   "id": "6b3c3d27-d67c-40db-9877-9ef5532dc944",
   "metadata": {},
   "outputs": [],
   "source": [
    "import warnings\n",
    "warnings.simplefilter(action='ignore', category=FutureWarning)\n",
    "\n",
    "import yfinance as yf\n",
    "import pandas as pd\n",
    "import numpy as np\n",
    "import matplotlib.pyplot as plt\n",
    "\n",
    "from pytickersymbols import PyTickerSymbols\n",
    "\n",
    "pd.options.mode.chained_assignment = None  # default='warn'"
   ]
  },
  {
   "cell_type": "code",
   "execution_count": 2,
   "id": "a322fe7a-c585-4a48-9ca1-199e9f86bf9a",
   "metadata": {},
   "outputs": [],
   "source": [
    "#This Cell Block is all the functions for the strat. This is the only cell block that needs to be changed to backtest a different strategy.\n",
    "def RSI(data, window=14):\n",
    "    #daily_data = data.resample('D').last()\n",
    "    \n",
    "    delta = data['Close'].diff(1)\n",
    "    gain = delta.where(delta > 0, 0)\n",
    "    loss = -delta.where(delta < 0, 0)\n",
    "\n",
    "    avg_gain = gain.rolling(window=window, min_periods=1).mean()\n",
    "    avg_loss = loss.rolling(window=window, min_periods=1).mean()\n",
    "\n",
    "    rs = avg_gain / avg_loss\n",
    "    rsi = 100 - (100 / (1 + rs))\n",
    "    \n",
    "    return rsi\n",
    "\n",
    "def strat(ticker, period):   \n",
    "    # Download stock data from Yahoo Finance\n",
    "    data = yf.download(ticker, period = period, interval = \"1d\")\n",
    "    \n",
    "    # Calculate RSI and add it to the DataFrame\n",
    "    data['RSI'] = RSI(data)\n",
    "    \n",
    "    # Define the buy and sell conditions based on RSI\n",
    "    data['Signal'] = 0\n",
    "    data['Signal'][data['RSI'] > 53] = 1   # Buy signal\n",
    "    data['Signal'][data['RSI'] > 63] = -1  # Sell signal\n",
    "    \n",
    "    # Shift signals so we enter positions on the next day\n",
    "    data['Position'] = data['Signal'].shift(1)\n",
    "\n",
    "    # Initialize a holding counter\n",
    "    holding_counter = 0\n",
    "\n",
    "    data['Hold'] = 0\n",
    "    \n",
    "    # Loop through the data to check conditions and manage holding duration\n",
    "    for i in range(1, len(data)):\n",
    "        if data['Position'].iloc[i-1] == 1:  # Buy condition\n",
    "            holding_counter += 1\n",
    "            data['Hold'].iloc[i] = 1  # Hold the stock\n",
    "        elif data['Position'].iloc[i-1] == -1 or holding_counter >= 5:  # Sell condition or 5-day hold\n",
    "            data['Hold'].iloc[i] = 0  # Sell the stock\n",
    "            holding_counter = 0  # Reset counter after selling\n",
    "        else:\n",
    "            data['Hold'].iloc[i] = data['Hold'].iloc[i-1]  # Continue holding\n",
    "            \n",
    "    \n",
    "    \n",
    "    # Calculate daily returns\n",
    "    data['Daily Return'] = data['Close'].pct_change()\n",
    "    # Calculate strategy returns: Position * Daily Return\n",
    "    data['Strategy Return'] = data['Position'] * data['Daily Return']\n",
    "    \n",
    "    # Calculate cumulative returns\n",
    "    data['Cumulative Market Return'] = (1 + data['Daily Return']).cumprod() - 1\n",
    "    data['Cumulative Strategy Return'] = (1 + data['Strategy Return']).cumprod() - 1\n",
    "\n",
    "    total_strategy_return = data['Cumulative Strategy Return'].iloc[-1] * 100\n",
    "    total_strategy_return = \"{:.2f}%\".format(total_strategy_return)\n",
    "\n",
    "    print(data['Position'])\n",
    "    return total_strategy_return"
   ]
  },
  {
   "cell_type": "code",
   "execution_count": 3,
   "id": "2ec4b201-baf7-4723-a863-f1b69abf82af",
   "metadata": {},
   "outputs": [],
   "source": [
    "#The backtesting function to backtest the strat over different periods\n",
    "def backtest_strat(ticker):\n",
    "    backtest_data = {\n",
    "        'Asset': [ticker],\n",
    "        'YTD': [strat(ticker, \"ytd\")],\n",
    "        'Whole Period': [strat(ticker, \"max\")],\n",
    "        'Last 10Y': [strat(ticker, \"10y\")],\n",
    "        'Last 5Y': [strat(ticker, \"5y\")],\n",
    "        'Last 2Y': [strat(ticker, \"2y\")],\n",
    "        'Last 1Y': [strat(ticker, \"1y\")],\n",
    "        'Last 6M': [strat(ticker, \"6mo\")],\n",
    "        'Last 3M': [strat(ticker, \"3mo\")],\n",
    "        'Last 1M': [strat(ticker, \"1mo\")]    }\n",
    "    \n",
    "    # Create a pandas dataframe\n",
    "    backtest_df = pd.DataFrame(backtest_data)\n",
    "    \n",
    "    # Set the first column as the index for clarity\n",
    "    backtest_df.set_index('Asset', inplace=True)\n",
    "    return backtest_df"
   ]
  },
  {
   "cell_type": "code",
   "execution_count": 4,
   "id": "0043136b-c4ae-456a-a63b-82817612856d",
   "metadata": {},
   "outputs": [],
   "source": [
    "#Creates an empty dataframe to store the backtest data\n",
    "df =pd.DataFrame({\n",
    "        'Asset': [],'YTD': [], 'Whole Period': [], 'Last 10Y': [], 'Last 5Y': [], 'Last 2Y': [], 'Last 1Y': [], 'Last 6M': [], 'Last 3M': [], 'Last 1M': []\n",
    "    })\n",
    "\n",
    "df.set_index('Asset', inplace=True)"
   ]
  },
  {
   "cell_type": "code",
   "execution_count": 5,
   "id": "cab573bd-e79a-430c-a4a4-98f08b8baf0f",
   "metadata": {
    "scrolled": true
   },
   "outputs": [
    {
     "name": "stderr",
     "output_type": "stream",
     "text": [
      "[*********************100%***********************]  1 of 1 completed\n"
     ]
    },
    {
     "name": "stdout",
     "output_type": "stream",
     "text": [
      "Date\n",
      "2024-01-02    NaN\n",
      "2024-01-03    0.0\n",
      "2024-01-04    0.0\n",
      "2024-01-05    0.0\n",
      "2024-01-08    0.0\n",
      "             ... \n",
      "2024-10-11    0.0\n",
      "2024-10-14    0.0\n",
      "2024-10-15    1.0\n",
      "2024-10-16    1.0\n",
      "2024-10-17    1.0\n",
      "Name: Position, Length: 201, dtype: float64\n"
     ]
    },
    {
     "name": "stderr",
     "output_type": "stream",
     "text": [
      "[*********************100%***********************]  1 of 1 completed\n"
     ]
    },
    {
     "name": "stdout",
     "output_type": "stream",
     "text": [
      "Date\n",
      "1980-12-12    NaN\n",
      "1980-12-15    0.0\n",
      "1980-12-16    0.0\n",
      "1980-12-17    0.0\n",
      "1980-12-18    0.0\n",
      "             ... \n",
      "2024-10-11    0.0\n",
      "2024-10-14    0.0\n",
      "2024-10-15    1.0\n",
      "2024-10-16    1.0\n",
      "2024-10-17    1.0\n",
      "Name: Position, Length: 11054, dtype: float64\n"
     ]
    },
    {
     "name": "stderr",
     "output_type": "stream",
     "text": [
      "[*********************100%***********************]  1 of 1 completed\n"
     ]
    },
    {
     "name": "stdout",
     "output_type": "stream",
     "text": [
      "Date\n",
      "2014-10-17    NaN\n",
      "2014-10-20    0.0\n",
      "2014-10-21   -1.0\n",
      "2014-10-22   -1.0\n",
      "2014-10-23   -1.0\n",
      "             ... \n",
      "2024-10-11    0.0\n",
      "2024-10-14    0.0\n",
      "2024-10-15    1.0\n",
      "2024-10-16    1.0\n",
      "2024-10-17    1.0\n",
      "Name: Position, Length: 2517, dtype: float64\n"
     ]
    },
    {
     "name": "stderr",
     "output_type": "stream",
     "text": [
      "[*********************100%***********************]  1 of 1 completed\n",
      "[*********************100%***********************]  1 of 1 completed"
     ]
    },
    {
     "name": "stdout",
     "output_type": "stream",
     "text": [
      "Date\n",
      "2019-10-17    NaN\n",
      "2019-10-18    0.0\n",
      "2019-10-21   -1.0\n",
      "2019-10-22   -1.0\n",
      "2019-10-23   -1.0\n",
      "             ... \n",
      "2024-10-11    0.0\n",
      "2024-10-14    0.0\n",
      "2024-10-15    1.0\n",
      "2024-10-16    1.0\n",
      "2024-10-17    1.0\n",
      "Name: Position, Length: 1259, dtype: float64\n",
      "Date\n",
      "2022-10-17    NaN\n",
      "2022-10-18    0.0\n",
      "2022-10-19   -1.0\n",
      "2022-10-20   -1.0\n",
      "2022-10-21   -1.0\n",
      "             ... \n",
      "2024-10-11    0.0\n",
      "2024-10-14    0.0\n",
      "2024-10-15    1.0\n",
      "2024-10-16    1.0\n",
      "2024-10-17    1.0\n",
      "Name: Position, Length: 504, dtype: float64\n"
     ]
    },
    {
     "name": "stderr",
     "output_type": "stream",
     "text": [
      "\n",
      "[*********************100%***********************]  1 of 1 completed\n",
      "[*********************100%***********************]  1 of 1 completed\n"
     ]
    },
    {
     "name": "stdout",
     "output_type": "stream",
     "text": [
      "Date\n",
      "2023-10-17    NaN\n",
      "2023-10-18    0.0\n",
      "2023-10-19    0.0\n",
      "2023-10-20    0.0\n",
      "2023-10-23    0.0\n",
      "             ... \n",
      "2024-10-11    0.0\n",
      "2024-10-14    0.0\n",
      "2024-10-15    1.0\n",
      "2024-10-16    1.0\n",
      "2024-10-17    1.0\n",
      "Name: Position, Length: 253, dtype: float64\n",
      "Date\n",
      "2024-04-17    NaN\n",
      "2024-04-18    0.0\n",
      "2024-04-19    0.0\n",
      "2024-04-22    0.0\n",
      "2024-04-23    0.0\n",
      "             ... \n",
      "2024-10-11    0.0\n",
      "2024-10-14    0.0\n",
      "2024-10-15    1.0\n",
      "2024-10-16    1.0\n",
      "2024-10-17    1.0\n",
      "Name: Position, Length: 128, dtype: float64\n"
     ]
    },
    {
     "name": "stderr",
     "output_type": "stream",
     "text": [
      "[*********************100%***********************]  1 of 1 completed\n",
      "[*********************100%***********************]  1 of 1 completed\n",
      "[*********************100%***********************]  1 of 1 completed"
     ]
    },
    {
     "name": "stdout",
     "output_type": "stream",
     "text": [
      "Date\n",
      "2024-07-17    NaN\n",
      "2024-07-18    0.0\n",
      "2024-07-19    0.0\n",
      "2024-07-22    0.0\n",
      "2024-07-23    0.0\n",
      "             ... \n",
      "2024-10-11    0.0\n",
      "2024-10-14    0.0\n",
      "2024-10-15    1.0\n",
      "2024-10-16    1.0\n",
      "2024-10-17    1.0\n",
      "Name: Position, Length: 66, dtype: float64\n",
      "Date\n",
      "2024-09-17    NaN\n",
      "2024-09-18    0.0\n",
      "2024-09-19   -1.0\n",
      "2024-09-20   -1.0\n",
      "2024-09-23   -1.0\n",
      "2024-09-24   -1.0\n",
      "2024-09-25   -1.0\n",
      "2024-09-26   -1.0\n",
      "2024-09-27   -1.0\n",
      "2024-09-30   -1.0\n",
      "2024-10-01   -1.0\n",
      "2024-10-02   -1.0\n",
      "2024-10-03   -1.0\n",
      "2024-10-04   -1.0\n",
      "2024-10-07   -1.0\n",
      "2024-10-08    1.0\n",
      "2024-10-09    1.0\n",
      "2024-10-10    0.0\n",
      "2024-10-11    0.0\n",
      "2024-10-14    0.0\n",
      "2024-10-15    1.0\n",
      "2024-10-16    1.0\n",
      "2024-10-17    1.0\n",
      "Name: Position, dtype: float64\n"
     ]
    },
    {
     "name": "stderr",
     "output_type": "stream",
     "text": [
      "\n"
     ]
    },
    {
     "name": "stdout",
     "output_type": "stream",
     "text": [
      "Date\n",
      "2024-01-02    NaN\n",
      "2024-01-03    0.0\n",
      "2024-01-04    0.0\n",
      "2024-01-05    0.0\n",
      "2024-01-08   -1.0\n",
      "             ... \n",
      "2024-10-11   -1.0\n",
      "2024-10-14   -1.0\n",
      "2024-10-15   -1.0\n",
      "2024-10-16    1.0\n",
      "2024-10-17   -1.0\n",
      "Name: Position, Length: 201, dtype: float64\n"
     ]
    },
    {
     "name": "stderr",
     "output_type": "stream",
     "text": [
      "[*********************100%***********************]  1 of 1 completed\n",
      "[*********************100%***********************]  1 of 1 completed"
     ]
    },
    {
     "name": "stdout",
     "output_type": "stream",
     "text": [
      "Date\n",
      "1999-01-22    NaN\n",
      "1999-01-25    0.0\n",
      "1999-01-26   -1.0\n",
      "1999-01-27    1.0\n",
      "1999-01-28    1.0\n",
      "             ... \n",
      "2024-10-11   -1.0\n",
      "2024-10-14   -1.0\n",
      "2024-10-15   -1.0\n",
      "2024-10-16    1.0\n",
      "2024-10-17   -1.0\n",
      "Name: Position, Length: 6477, dtype: float64\n"
     ]
    },
    {
     "name": "stderr",
     "output_type": "stream",
     "text": [
      "\n",
      "[*********************100%***********************]  1 of 1 completed"
     ]
    },
    {
     "name": "stdout",
     "output_type": "stream",
     "text": [
      "Date\n",
      "2014-10-17    NaN\n",
      "2014-10-20    0.0\n",
      "2014-10-21   -1.0\n",
      "2014-10-22   -1.0\n",
      "2014-10-23   -1.0\n",
      "             ... \n",
      "2024-10-11   -1.0\n",
      "2024-10-14   -1.0\n",
      "2024-10-15   -1.0\n",
      "2024-10-16    1.0\n",
      "2024-10-17   -1.0\n",
      "Name: Position, Length: 2517, dtype: float64\n"
     ]
    },
    {
     "name": "stderr",
     "output_type": "stream",
     "text": [
      "\n",
      "[*********************100%***********************]  1 of 1 completed"
     ]
    },
    {
     "name": "stdout",
     "output_type": "stream",
     "text": [
      "Date\n",
      "2019-10-17    NaN\n",
      "2019-10-18    0.0\n",
      "2019-10-21    0.0\n",
      "2019-10-22    1.0\n",
      "2019-10-23    1.0\n",
      "             ... \n",
      "2024-10-11   -1.0\n",
      "2024-10-14   -1.0\n",
      "2024-10-15   -1.0\n",
      "2024-10-16    1.0\n",
      "2024-10-17   -1.0\n",
      "Name: Position, Length: 1259, dtype: float64\n",
      "Date\n",
      "2022-10-17    NaN\n",
      "2022-10-18    0.0\n",
      "2022-10-19   -1.0\n",
      "2022-10-20   -1.0\n",
      "2022-10-21   -1.0\n",
      "             ... \n",
      "2024-10-11   -1.0\n",
      "2024-10-14   -1.0\n",
      "2024-10-15   -1.0\n",
      "2024-10-16    1.0\n",
      "2024-10-17   -1.0\n",
      "Name: Position, Length: 504, dtype: float64\n"
     ]
    },
    {
     "name": "stderr",
     "output_type": "stream",
     "text": [
      "\n",
      "[*********************100%***********************]  1 of 1 completed\n",
      "[*********************100%***********************]  1 of 1 completed\n"
     ]
    },
    {
     "name": "stdout",
     "output_type": "stream",
     "text": [
      "Date\n",
      "2023-10-17    NaN\n",
      "2023-10-18    0.0\n",
      "2023-10-19    0.0\n",
      "2023-10-20    0.0\n",
      "2023-10-23    0.0\n",
      "             ... \n",
      "2024-10-11   -1.0\n",
      "2024-10-14   -1.0\n",
      "2024-10-15   -1.0\n",
      "2024-10-16    1.0\n",
      "2024-10-17   -1.0\n",
      "Name: Position, Length: 253, dtype: float64\n",
      "Date\n",
      "2024-04-17    NaN\n",
      "2024-04-18    0.0\n",
      "2024-04-19   -1.0\n",
      "2024-04-22    0.0\n",
      "2024-04-23    0.0\n",
      "             ... \n",
      "2024-10-11   -1.0\n",
      "2024-10-14   -1.0\n",
      "2024-10-15   -1.0\n",
      "2024-10-16    1.0\n",
      "2024-10-17   -1.0\n",
      "Name: Position, Length: 128, dtype: float64\n"
     ]
    },
    {
     "name": "stderr",
     "output_type": "stream",
     "text": [
      "[*********************100%***********************]  1 of 1 completed\n",
      "[*********************100%***********************]  1 of 1 completed"
     ]
    },
    {
     "name": "stdout",
     "output_type": "stream",
     "text": [
      "Date\n",
      "2024-07-17    NaN\n",
      "2024-07-18    0.0\n",
      "2024-07-19   -1.0\n",
      "2024-07-22    0.0\n",
      "2024-07-23   -1.0\n",
      "             ... \n",
      "2024-10-11   -1.0\n",
      "2024-10-14   -1.0\n",
      "2024-10-15   -1.0\n",
      "2024-10-16    1.0\n",
      "2024-10-17   -1.0\n",
      "Name: Position, Length: 66, dtype: float64\n",
      "Date\n",
      "2024-09-17    NaN\n",
      "2024-09-18    0.0\n",
      "2024-09-19    0.0\n",
      "2024-09-20   -1.0\n",
      "2024-09-23    0.0\n",
      "2024-09-24    1.0\n",
      "2024-09-25   -1.0\n",
      "2024-09-26   -1.0\n",
      "2024-09-27   -1.0\n",
      "2024-09-30   -1.0\n",
      "2024-10-01   -1.0\n",
      "2024-10-02    0.0\n",
      "2024-10-03    1.0\n",
      "2024-10-04    1.0\n",
      "2024-10-07   -1.0\n",
      "2024-10-08   -1.0\n",
      "2024-10-09   -1.0\n",
      "2024-10-10   -1.0\n",
      "2024-10-11   -1.0\n",
      "2024-10-14   -1.0\n",
      "2024-10-15   -1.0\n",
      "2024-10-16    1.0\n",
      "2024-10-17   -1.0\n",
      "Name: Position, dtype: float64\n"
     ]
    },
    {
     "name": "stderr",
     "output_type": "stream",
     "text": [
      "\n"
     ]
    },
    {
     "data": {
      "text/html": [
       "<div>\n",
       "<style scoped>\n",
       "    .dataframe tbody tr th:only-of-type {\n",
       "        vertical-align: middle;\n",
       "    }\n",
       "\n",
       "    .dataframe tbody tr th {\n",
       "        vertical-align: top;\n",
       "    }\n",
       "\n",
       "    .dataframe thead th {\n",
       "        text-align: right;\n",
       "    }\n",
       "</style>\n",
       "<table border=\"1\" class=\"dataframe\">\n",
       "  <thead>\n",
       "    <tr style=\"text-align: right;\">\n",
       "      <th></th>\n",
       "      <th>YTD</th>\n",
       "      <th>Whole Period</th>\n",
       "      <th>Last 10Y</th>\n",
       "      <th>Last 5Y</th>\n",
       "      <th>Last 2Y</th>\n",
       "      <th>Last 1Y</th>\n",
       "      <th>Last 6M</th>\n",
       "      <th>Last 3M</th>\n",
       "      <th>Last 1M</th>\n",
       "    </tr>\n",
       "    <tr>\n",
       "      <th>Asset</th>\n",
       "      <th></th>\n",
       "      <th></th>\n",
       "      <th></th>\n",
       "      <th></th>\n",
       "      <th></th>\n",
       "      <th></th>\n",
       "      <th></th>\n",
       "      <th></th>\n",
       "      <th></th>\n",
       "    </tr>\n",
       "  </thead>\n",
       "  <tbody>\n",
       "    <tr>\n",
       "      <th>AAPL</th>\n",
       "      <td>15.33%</td>\n",
       "      <td>-94.83%</td>\n",
       "      <td>-16.41%</td>\n",
       "      <td>-32.70%</td>\n",
       "      <td>23.93%</td>\n",
       "      <td>15.87%</td>\n",
       "      <td>32.51%</td>\n",
       "      <td>16.69%</td>\n",
       "      <td>3.16%</td>\n",
       "    </tr>\n",
       "    <tr>\n",
       "      <th>NVDA</th>\n",
       "      <td>-55.02%</td>\n",
       "      <td>-97.61%</td>\n",
       "      <td>-85.74%</td>\n",
       "      <td>-88.96%</td>\n",
       "      <td>-82.77%</td>\n",
       "      <td>-54.28%</td>\n",
       "      <td>-2.22%</td>\n",
       "      <td>34.78%</td>\n",
       "      <td>8.48%</td>\n",
       "    </tr>\n",
       "  </tbody>\n",
       "</table>\n",
       "</div>"
      ],
      "text/plain": [
       "           YTD Whole Period Last 10Y  Last 5Y  Last 2Y  Last 1Y Last 6M  \\\n",
       "Asset                                                                     \n",
       "AAPL    15.33%      -94.83%  -16.41%  -32.70%   23.93%   15.87%  32.51%   \n",
       "NVDA   -55.02%      -97.61%  -85.74%  -88.96%  -82.77%  -54.28%  -2.22%   \n",
       "\n",
       "      Last 3M Last 1M  \n",
       "Asset                  \n",
       "AAPL   16.69%   3.16%  \n",
       "NVDA   34.78%   8.48%  "
      ]
     },
     "execution_count": 5,
     "metadata": {},
     "output_type": "execute_result"
    }
   ],
   "source": [
    "#Fetching the tickers for the S&P 500\n",
    "#This will take like 10mins to execute\n",
    "stock_data = PyTickerSymbols()\n",
    "sp500_symbols = stock_data.get_stocks_by_index('S&P 500')\n",
    "\n",
    "#symbols = [stock['symbol'] for stock in sp500_symbols]\n",
    "symbols = [\"AAPL\", \"NVDA\"] #Test data\n",
    "\n",
    "#Running the stocks through the strat and backtesting functions\n",
    "for symbol in symbols:\n",
    "    try:\n",
    "        df = pd.concat([df, backtest_strat(symbol)])\n",
    "    except IndexError:\n",
    "        pass\n",
    "\n",
    "df"
   ]
  },
  {
   "cell_type": "code",
   "execution_count": 6,
   "id": "3ba6ae1e-d495-4c6b-adfa-be0b6fb2c62b",
   "metadata": {},
   "outputs": [],
   "source": [
    "#Saves the dataframe to a csv file. Edit the name\n",
    "df.to_csv('Optimum 53 63.csv', index=True)"
   ]
  },
  {
   "cell_type": "code",
   "execution_count": null,
   "id": "651fde2e-b89d-42ec-ae3d-a0d9e94fc7fe",
   "metadata": {},
   "outputs": [],
   "source": []
  }
 ],
 "metadata": {
  "kernelspec": {
   "display_name": "Python 3 (ipykernel)",
   "language": "python",
   "name": "python3"
  },
  "language_info": {
   "codemirror_mode": {
    "name": "ipython",
    "version": 3
   },
   "file_extension": ".py",
   "mimetype": "text/x-python",
   "name": "python",
   "nbconvert_exporter": "python",
   "pygments_lexer": "ipython3",
   "version": "3.12.7"
  }
 },
 "nbformat": 4,
 "nbformat_minor": 5
}
