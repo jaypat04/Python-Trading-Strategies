{
 "cells": [
  {
   "cell_type": "code",
   "execution_count": 1,
   "id": "1795f021-3c05-47fd-923b-687e433c64b4",
   "metadata": {},
   "outputs": [],
   "source": [
    "import warnings\n",
    "warnings.simplefilter(action='ignore', category=FutureWarning)\n",
    "\n",
    "import yfinance as yf\n",
    "import pandas as pd\n",
    "import numpy as np\n",
    "import matplotlib.pyplot as plt\n",
    "\n",
    "from pytickersymbols import PyTickerSymbols\n",
    "\n",
    "pd.options.mode.chained_assignment = None  # default='warn'"
   ]
  },
  {
   "cell_type": "code",
   "execution_count": 2,
   "id": "f12161a5-8049-4643-b24b-e95d6d268f3c",
   "metadata": {},
   "outputs": [],
   "source": [
    "#This Cell Block is all the functions for the strat. This is the only cell block that needs to be changed to backtest a different strategy.\n",
    "\n",
    "def strat(ticker, period):   \n",
    "    #Import your strat code here\n",
    "\n",
    "    data = yf.download(ticker, period = period, interval = \"1d\")\n",
    "\n",
    "    short_window = 7  # Short-term moving average window\n",
    "    long_window = 60   # Long-term moving average window\n",
    "\n",
    "    data['Short_MA'] = data['Close'].rolling(window=short_window, min_periods=1).mean()\n",
    "    data['Long_MA'] = data['Close'].rolling(window=long_window, min_periods=1).mean()\n",
    "    \n",
    "    data['Signal'] = 0\n",
    "    data['Signal'][data['Short_MA'] > data['Long_MA']] = 1  # Buy signal\n",
    "    data['Signal'][data['Short_MA'] < data['Long_MA']] = -1  # Sell signal\n",
    "\n",
    "    data['Position'] = data['Signal'].shift(1)\n",
    "\n",
    "    # Calculate daily returns\n",
    "    data['Daily Return'] = data['Close'].pct_change()\n",
    "    # Calculate strategy returns: Position * Daily Return\n",
    "    data['Strategy Return'] = data['Position'] * data['Daily Return']\n",
    "    \n",
    "    # Calculate cumulative returns\n",
    "    data['Cumulative Market Return'] = (1 + data['Daily Return']).cumprod() - 1\n",
    "    data['Cumulative Strategy Return'] = (1 + data['Strategy Return']).cumprod() - 1\n",
    "\n",
    "    total_strategy_return = data['Cumulative Strategy Return'].iloc[-1] * 100\n",
    "    total_strategy_return = \"{:.2f}%\".format(total_strategy_return)\n",
    "    \n",
    "    return total_strategy_return        "
   ]
  },
  {
   "cell_type": "code",
   "execution_count": 3,
   "id": "38a6e5bd-f5fa-4b0d-81f8-8bc580458c0e",
   "metadata": {},
   "outputs": [],
   "source": [
    "#The backtesting function to backtest the strat over different periods\n",
    "def backtest_strat(ticker):\n",
    "    backtest_data = {\n",
    "        'Asset': [ticker],\n",
    "        'YTD': [strat(ticker, \"ytd\")],\n",
    "        'Whole Period': [strat(ticker, \"max\")],\n",
    "        'Last 10Y': [strat(ticker, \"10y\")],\n",
    "        'Last 5Y': [strat(ticker, \"5y\")],\n",
    "        'Last 2Y': [strat(ticker, \"2y\")],\n",
    "        'Last 1Y': [strat(ticker, \"1y\")],\n",
    "        'Last 6M': [strat(ticker, \"6mo\")],\n",
    "        'Last 3M': [strat(ticker, \"3mo\")],\n",
    "        'Last 1M': [strat(ticker, \"1mo\")]    }\n",
    "    \n",
    "    # Create a pandas dataframe\n",
    "    backtest_df = pd.DataFrame(backtest_data)\n",
    "    \n",
    "    # Set the first column as the index for clarity\n",
    "    backtest_df.set_index('Asset', inplace=True)\n",
    "    return backtest_df"
   ]
  },
  {
   "cell_type": "code",
   "execution_count": 4,
   "id": "03572d7a-aee3-4a68-a4d3-ba7b88038be4",
   "metadata": {},
   "outputs": [],
   "source": [
    "#Creates an empty dataframe to store the backtest data\n",
    "df =pd.DataFrame({\n",
    "        'Asset': [],'YTD': [], 'Whole Period': [], 'Last 10Y': [], 'Last 5Y': [], 'Last 2Y': [], 'Last 1Y': [], 'Last 6M': [], 'Last 3M': [], 'Last 1M': []\n",
    "    })\n",
    "\n",
    "df.set_index('Asset', inplace=True)"
   ]
  },
  {
   "cell_type": "code",
   "execution_count": 5,
   "id": "a174080d-6fb8-4c8f-925a-0d67c1438b18",
   "metadata": {},
   "outputs": [
    {
     "ename": "KeyboardInterrupt",
     "evalue": "",
     "output_type": "error",
     "traceback": [
      "\u001b[1;31m---------------------------------------------------------------------------\u001b[0m",
      "\u001b[1;31mKeyboardInterrupt\u001b[0m                         Traceback (most recent call last)",
      "Cell \u001b[1;32mIn[5], line 13\u001b[0m\n\u001b[0;32m     11\u001b[0m \u001b[38;5;28;01mfor\u001b[39;00m symbol \u001b[38;5;129;01min\u001b[39;00m symbols:\n\u001b[0;32m     12\u001b[0m     \u001b[38;5;28;01mtry\u001b[39;00m:\n\u001b[1;32m---> 13\u001b[0m         df \u001b[38;5;241m=\u001b[39m pd\u001b[38;5;241m.\u001b[39mconcat([df, \u001b[43mbacktest_strat\u001b[49m\u001b[43m(\u001b[49m\u001b[43msymbol\u001b[49m\u001b[43m)\u001b[49m])\n\u001b[0;32m     14\u001b[0m     \u001b[38;5;28;01mexcept\u001b[39;00m \u001b[38;5;167;01mIndexError\u001b[39;00m:\n\u001b[0;32m     15\u001b[0m         \u001b[38;5;28;01mpass\u001b[39;00m\n",
      "Cell \u001b[1;32mIn[3], line 5\u001b[0m, in \u001b[0;36mbacktest_strat\u001b[1;34m(ticker)\u001b[0m\n\u001b[0;32m      2\u001b[0m \u001b[38;5;28;01mdef\u001b[39;00m \u001b[38;5;21mbacktest_strat\u001b[39m(ticker):\n\u001b[0;32m      3\u001b[0m     backtest_data \u001b[38;5;241m=\u001b[39m {\n\u001b[0;32m      4\u001b[0m         \u001b[38;5;124m'\u001b[39m\u001b[38;5;124mAsset\u001b[39m\u001b[38;5;124m'\u001b[39m: [ticker],\n\u001b[1;32m----> 5\u001b[0m         \u001b[38;5;124m'\u001b[39m\u001b[38;5;124mYTD\u001b[39m\u001b[38;5;124m'\u001b[39m: [\u001b[43mstrat\u001b[49m\u001b[43m(\u001b[49m\u001b[43mticker\u001b[49m\u001b[43m,\u001b[49m\u001b[43m \u001b[49m\u001b[38;5;124;43m\"\u001b[39;49m\u001b[38;5;124;43mytd\u001b[39;49m\u001b[38;5;124;43m\"\u001b[39;49m\u001b[43m)\u001b[49m],\n\u001b[0;32m      6\u001b[0m         \u001b[38;5;124m'\u001b[39m\u001b[38;5;124mWhole Period\u001b[39m\u001b[38;5;124m'\u001b[39m: [strat(ticker, \u001b[38;5;124m\"\u001b[39m\u001b[38;5;124mmax\u001b[39m\u001b[38;5;124m\"\u001b[39m)],\n\u001b[0;32m      7\u001b[0m         \u001b[38;5;124m'\u001b[39m\u001b[38;5;124mLast 10Y\u001b[39m\u001b[38;5;124m'\u001b[39m: [strat(ticker, \u001b[38;5;124m\"\u001b[39m\u001b[38;5;124m10y\u001b[39m\u001b[38;5;124m\"\u001b[39m)],\n\u001b[0;32m      8\u001b[0m         \u001b[38;5;124m'\u001b[39m\u001b[38;5;124mLast 5Y\u001b[39m\u001b[38;5;124m'\u001b[39m: [strat(ticker, \u001b[38;5;124m\"\u001b[39m\u001b[38;5;124m5y\u001b[39m\u001b[38;5;124m\"\u001b[39m)],\n\u001b[0;32m      9\u001b[0m         \u001b[38;5;124m'\u001b[39m\u001b[38;5;124mLast 2Y\u001b[39m\u001b[38;5;124m'\u001b[39m: [strat(ticker, \u001b[38;5;124m\"\u001b[39m\u001b[38;5;124m2y\u001b[39m\u001b[38;5;124m\"\u001b[39m)],\n\u001b[0;32m     10\u001b[0m         \u001b[38;5;124m'\u001b[39m\u001b[38;5;124mLast 1Y\u001b[39m\u001b[38;5;124m'\u001b[39m: [strat(ticker, \u001b[38;5;124m\"\u001b[39m\u001b[38;5;124m1y\u001b[39m\u001b[38;5;124m\"\u001b[39m)],\n\u001b[0;32m     11\u001b[0m         \u001b[38;5;124m'\u001b[39m\u001b[38;5;124mLast 6M\u001b[39m\u001b[38;5;124m'\u001b[39m: [strat(ticker, \u001b[38;5;124m\"\u001b[39m\u001b[38;5;124m6mo\u001b[39m\u001b[38;5;124m\"\u001b[39m)],\n\u001b[0;32m     12\u001b[0m         \u001b[38;5;124m'\u001b[39m\u001b[38;5;124mLast 3M\u001b[39m\u001b[38;5;124m'\u001b[39m: [strat(ticker, \u001b[38;5;124m\"\u001b[39m\u001b[38;5;124m3mo\u001b[39m\u001b[38;5;124m\"\u001b[39m)],\n\u001b[0;32m     13\u001b[0m         \u001b[38;5;124m'\u001b[39m\u001b[38;5;124mLast 1M\u001b[39m\u001b[38;5;124m'\u001b[39m: [strat(ticker, \u001b[38;5;124m\"\u001b[39m\u001b[38;5;124m1mo\u001b[39m\u001b[38;5;124m\"\u001b[39m)]    }\n\u001b[0;32m     15\u001b[0m     \u001b[38;5;66;03m# Create a pandas dataframe\u001b[39;00m\n\u001b[0;32m     16\u001b[0m     backtest_df \u001b[38;5;241m=\u001b[39m pd\u001b[38;5;241m.\u001b[39mDataFrame(backtest_data)\n",
      "Cell \u001b[1;32mIn[2], line 6\u001b[0m, in \u001b[0;36mstrat\u001b[1;34m(ticker, period)\u001b[0m\n\u001b[0;32m      3\u001b[0m \u001b[38;5;28;01mdef\u001b[39;00m \u001b[38;5;21mstrat\u001b[39m(ticker, period):   \n\u001b[0;32m      4\u001b[0m     \u001b[38;5;66;03m#Import your strat code here\u001b[39;00m\n\u001b[1;32m----> 6\u001b[0m     data \u001b[38;5;241m=\u001b[39m \u001b[43myf\u001b[49m\u001b[38;5;241;43m.\u001b[39;49m\u001b[43mdownload\u001b[49m\u001b[43m(\u001b[49m\u001b[43mticker\u001b[49m\u001b[43m,\u001b[49m\u001b[43m \u001b[49m\u001b[43mperiod\u001b[49m\u001b[43m \u001b[49m\u001b[38;5;241;43m=\u001b[39;49m\u001b[43m \u001b[49m\u001b[43mperiod\u001b[49m\u001b[43m,\u001b[49m\u001b[43m \u001b[49m\u001b[43minterval\u001b[49m\u001b[43m \u001b[49m\u001b[38;5;241;43m=\u001b[39;49m\u001b[43m \u001b[49m\u001b[38;5;124;43m\"\u001b[39;49m\u001b[38;5;124;43m1d\u001b[39;49m\u001b[38;5;124;43m\"\u001b[39;49m\u001b[43m)\u001b[49m\n\u001b[0;32m      8\u001b[0m     short_window \u001b[38;5;241m=\u001b[39m \u001b[38;5;241m7\u001b[39m  \u001b[38;5;66;03m# Short-term moving average window\u001b[39;00m\n\u001b[0;32m      9\u001b[0m     long_window \u001b[38;5;241m=\u001b[39m \u001b[38;5;241m60\u001b[39m   \u001b[38;5;66;03m# Long-term moving average window\u001b[39;00m\n",
      "File \u001b[1;32m~\\AppData\\Local\\Packages\\PythonSoftwareFoundation.Python.3.12_qbz5n2kfra8p0\\LocalCache\\local-packages\\Python312\\site-packages\\yfinance\\utils.py:104\u001b[0m, in \u001b[0;36mlog_indent_decorator.<locals>.wrapper\u001b[1;34m(*args, **kwargs)\u001b[0m\n\u001b[0;32m    101\u001b[0m logger\u001b[38;5;241m.\u001b[39mdebug(\u001b[38;5;124mf\u001b[39m\u001b[38;5;124m'\u001b[39m\u001b[38;5;124mEntering \u001b[39m\u001b[38;5;132;01m{\u001b[39;00mfunc\u001b[38;5;241m.\u001b[39m\u001b[38;5;18m__name__\u001b[39m\u001b[38;5;132;01m}\u001b[39;00m\u001b[38;5;124m()\u001b[39m\u001b[38;5;124m'\u001b[39m)\n\u001b[0;32m    103\u001b[0m \u001b[38;5;28;01mwith\u001b[39;00m IndentationContext():\n\u001b[1;32m--> 104\u001b[0m     result \u001b[38;5;241m=\u001b[39m \u001b[43mfunc\u001b[49m\u001b[43m(\u001b[49m\u001b[38;5;241;43m*\u001b[39;49m\u001b[43margs\u001b[49m\u001b[43m,\u001b[49m\u001b[43m \u001b[49m\u001b[38;5;241;43m*\u001b[39;49m\u001b[38;5;241;43m*\u001b[39;49m\u001b[43mkwargs\u001b[49m\u001b[43m)\u001b[49m\n\u001b[0;32m    106\u001b[0m logger\u001b[38;5;241m.\u001b[39mdebug(\u001b[38;5;124mf\u001b[39m\u001b[38;5;124m'\u001b[39m\u001b[38;5;124mExiting \u001b[39m\u001b[38;5;132;01m{\u001b[39;00mfunc\u001b[38;5;241m.\u001b[39m\u001b[38;5;18m__name__\u001b[39m\u001b[38;5;132;01m}\u001b[39;00m\u001b[38;5;124m()\u001b[39m\u001b[38;5;124m'\u001b[39m)\n\u001b[0;32m    107\u001b[0m \u001b[38;5;28;01mreturn\u001b[39;00m result\n",
      "File \u001b[1;32m~\\AppData\\Local\\Packages\\PythonSoftwareFoundation.Python.3.12_qbz5n2kfra8p0\\LocalCache\\local-packages\\Python312\\site-packages\\yfinance\\multi.py:152\u001b[0m, in \u001b[0;36mdownload\u001b[1;34m(tickers, start, end, actions, threads, ignore_tz, group_by, auto_adjust, back_adjust, repair, keepna, progress, period, interval, prepost, proxy, rounding, timeout, session)\u001b[0m\n\u001b[0;32m    145\u001b[0m         _download_one_threaded(ticker, period\u001b[38;5;241m=\u001b[39mperiod, interval\u001b[38;5;241m=\u001b[39minterval,\n\u001b[0;32m    146\u001b[0m                                start\u001b[38;5;241m=\u001b[39mstart, end\u001b[38;5;241m=\u001b[39mend, prepost\u001b[38;5;241m=\u001b[39mprepost,\n\u001b[0;32m    147\u001b[0m                                actions\u001b[38;5;241m=\u001b[39mactions, auto_adjust\u001b[38;5;241m=\u001b[39mauto_adjust,\n\u001b[0;32m    148\u001b[0m                                back_adjust\u001b[38;5;241m=\u001b[39mback_adjust, repair\u001b[38;5;241m=\u001b[39mrepair, keepna\u001b[38;5;241m=\u001b[39mkeepna,\n\u001b[0;32m    149\u001b[0m                                progress\u001b[38;5;241m=\u001b[39m(progress \u001b[38;5;129;01mand\u001b[39;00m i \u001b[38;5;241m>\u001b[39m \u001b[38;5;241m0\u001b[39m), proxy\u001b[38;5;241m=\u001b[39mproxy,\n\u001b[0;32m    150\u001b[0m                                rounding\u001b[38;5;241m=\u001b[39mrounding, timeout\u001b[38;5;241m=\u001b[39mtimeout)\n\u001b[0;32m    151\u001b[0m     \u001b[38;5;28;01mwhile\u001b[39;00m \u001b[38;5;28mlen\u001b[39m(shared\u001b[38;5;241m.\u001b[39m_DFS) \u001b[38;5;241m<\u001b[39m \u001b[38;5;28mlen\u001b[39m(tickers):\n\u001b[1;32m--> 152\u001b[0m         \u001b[43m_time\u001b[49m\u001b[38;5;241;43m.\u001b[39;49m\u001b[43msleep\u001b[49m\u001b[43m(\u001b[49m\u001b[38;5;241;43m0.01\u001b[39;49m\u001b[43m)\u001b[49m\n\u001b[0;32m    153\u001b[0m \u001b[38;5;66;03m# download synchronously\u001b[39;00m\n\u001b[0;32m    154\u001b[0m \u001b[38;5;28;01melse\u001b[39;00m:\n\u001b[0;32m    155\u001b[0m     \u001b[38;5;28;01mfor\u001b[39;00m i, ticker \u001b[38;5;129;01min\u001b[39;00m \u001b[38;5;28menumerate\u001b[39m(tickers):\n",
      "\u001b[1;31mKeyboardInterrupt\u001b[0m: "
     ]
    }
   ],
   "source": [
    "#Fetching the tickers for the S&P 500\n",
    "#This will take like 10mins to execute\n",
    "stock_data = PyTickerSymbols()\n",
    "sp500_symbols = stock_data.get_stocks_by_index('S&P 500')\n",
    "symbols = [stock['symbol'] for stock in sp500_symbols]\n",
    "\n",
    "#Test Symbols\n",
    "#symbols = [\"TSLA\", \"NVDA\", \"AAPL\", \"MSFT\", \"MSTR\", \"AMZN\", \"META\", \"INTC\"]\n",
    "\n",
    "#Running the stocks through the strat and backtesting functions\n",
    "for symbol in symbols:\n",
    "    try:\n",
    "        df = pd.concat([df, backtest_strat(symbol)])\n",
    "    except IndexError:\n",
    "        pass\n",
    "\n",
    "df"
   ]
  },
  {
   "cell_type": "code",
   "execution_count": 7,
   "id": "1a08a865-7528-4074-b3d0-f8fab369321a",
   "metadata": {},
   "outputs": [],
   "source": [
    "#Saves the dataframe to a csv file. Edit the name\n",
    "df.to_csv('Moving Averages short 7 long 60.csv', index=True)"
   ]
  },
  {
   "cell_type": "code",
   "execution_count": null,
   "id": "5bcae177-b3bc-4fc8-bb82-13739a684ec5",
   "metadata": {},
   "outputs": [],
   "source": []
  }
 ],
 "metadata": {
  "kernelspec": {
   "display_name": "Python 3 (ipykernel)",
   "language": "python",
   "name": "python3"
  },
  "language_info": {
   "codemirror_mode": {
    "name": "ipython",
    "version": 3
   },
   "file_extension": ".py",
   "mimetype": "text/x-python",
   "name": "python",
   "nbconvert_exporter": "python",
   "pygments_lexer": "ipython3",
   "version": "3.12.7"
  }
 },
 "nbformat": 4,
 "nbformat_minor": 5
}
