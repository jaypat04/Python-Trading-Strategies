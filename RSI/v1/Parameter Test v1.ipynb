{
 "cells": [
  {
   "cell_type": "code",
   "execution_count": null,
   "id": "547a912f-bc17-4e26-b639-b0ea6ebd78ac",
   "metadata": {},
   "outputs": [],
   "source": [
    "#The original longer code that takes about an hour to run\n",
    "#Isn't commented just here for reference"
   ]
  },
  {
   "cell_type": "code",
   "execution_count": 1,
   "id": "514ae907-e953-4df4-a881-ab7dc6618d20",
   "metadata": {},
   "outputs": [],
   "source": [
    "import warnings\n",
    "warnings.simplefilter(action='ignore', category=FutureWarning)\n",
    "\n",
    "import yfinance as yf\n",
    "import pandas as pd\n",
    "import numpy as np\n",
    "import matplotlib.pyplot as plt\n",
    "\n",
    "from pytickersymbols import PyTickerSymbols\n",
    "\n",
    "pd.options.mode.chained_assignment = None  # default='warn'"
   ]
  },
  {
   "cell_type": "code",
   "execution_count": 2,
   "id": "1d39cbad-f458-4816-b3a4-a047f08f5c32",
   "metadata": {},
   "outputs": [],
   "source": [
    "#This Cell Block is all the functions for the strat. This is the only cell block that needs to be changed to backtest a different strategy.\n",
    "def RSI(data, window=14):\n",
    "    #daily_data = data.resample('D').last()\n",
    "    \n",
    "    delta = data['Close'].diff(1)\n",
    "    gain = delta.where(delta > 0, 0)\n",
    "    loss = -delta.where(delta < 0, 0)\n",
    "\n",
    "    avg_gain = gain.rolling(window=window, min_periods=1).mean()\n",
    "    avg_loss = loss.rolling(window=window, min_periods=1).mean()\n",
    "\n",
    "    rs = avg_gain / avg_loss\n",
    "    rsi = 100 - (100 / (1 + rs))\n",
    "    \n",
    "    return rsi\n",
    "\n",
    "def strat(ticker, period, buy, sell):   \n",
    "    # Download stock data from Yahoo Finance\n",
    "    data = yf.download(ticker, period = period, interval = \"1d\")\n",
    "    \n",
    "    # Calculate RSI and add it to the DataFrame\n",
    "    data['RSI'] = RSI(data)\n",
    "    \n",
    "    # Define the buy and sell conditions based on RSI\n",
    "    data['Signal'] = 0\n",
    "    data['Signal'][data['RSI'] > buy] = 1   # Buy signal\n",
    "    data['Signal'][data['RSI'] > sell] = -1  # Sell signal\n",
    "    \n",
    "    # Shift signals so we enter positions on the next day\n",
    "    data['Position'] = data['Signal'].shift(1)\n",
    "    \n",
    "    \n",
    "    # Calculate daily returns\n",
    "    data['Daily Return'] = data['Close'].pct_change()\n",
    "    # Calculate strategy returns: Position * Daily Return\n",
    "    data[ticker] = data['Position'] * data['Daily Return']\n",
    "    \n",
    "    return data[ticker]"
   ]
  },
  {
   "cell_type": "code",
   "execution_count": 3,
   "id": "304a01e8-67ae-463e-8dc6-d4064bd50e0d",
   "metadata": {},
   "outputs": [],
   "source": [
    "daily = pd.DataFrame({\n",
    "        'Date': []\n",
    "    })\n",
    "daily.set_index('Date', inplace=True)\n"
   ]
  },
  {
   "cell_type": "code",
   "execution_count": 4,
   "id": "c061baa5-86f1-4251-b949-e2aa14a7246a",
   "metadata": {},
   "outputs": [],
   "source": [
    "def calculate_portfolio_sharpe_ratio(daily, risk_free_rate=0.011059):\n",
    "    daily = daily.drop(daily.index[0])\n",
    "    if daily.isnull().values.any():\n",
    "        print(f\"Warning: Missing data for some stocks in the portfolio.\")\n",
    "        null_counts = daily.isnull().sum()  # Get the number of nulls per column\n",
    "        non_zero_nulls = null_counts[null_counts > 0]  # Filter out the columns where null count is 0\n",
    "        print(non_zero_nulls)  # Print only columns with null values\n",
    "        daily = daily.dropna(axis=1, how='any')  # Drop stocks with missing data\n",
    "\n",
    "    print(daily)\n",
    "    num = daily.shape[1]\n",
    "    print(num)\n",
    "\n",
    "    weight = [1 / num] * num\n",
    "\n",
    "    weights = np.array(weight)\n",
    "    \n",
    "    portfolio_daily_returns = daily.dot(weights)\n",
    "\n",
    "    # Calculate annualized return for the portfolio\n",
    "    annualized_return = ((1 + portfolio_daily_returns.mean()) ** 64) - 1\n",
    "\n",
    "    # Calculate annualized volatility (standard deviation) for the portfolio\n",
    "    annualized_volatility = portfolio_daily_returns.std() * np.sqrt(64)\n",
    "    \n",
    "    # Sharpe ratio formula: (Expected Return - Risk-Free Rate) / Volatility\n",
    "    sharpe_ratio = (annualized_return - risk_free_rate) / annualized_volatility\n",
    "    \n",
    "    return sharpe_ratio"
   ]
  },
  {
   "cell_type": "code",
   "execution_count": 5,
   "id": "08302d82-7b86-48f3-8a14-f6d4204e684e",
   "metadata": {},
   "outputs": [],
   "source": [
    "def portfolio_daily_returns(daily, symbol, buy, sell):\n",
    "    daily = pd.concat([daily, strat(symbol, \"3mo\", buy, sell)], axis=1)\n",
    "\n",
    "    return daily"
   ]
  },
  {
   "cell_type": "code",
   "execution_count": 8,
   "id": "f1391882-2abe-4ed5-929e-d1fb608fb666",
   "metadata": {},
   "outputs": [],
   "source": [
    "parameters = pd.DataFrame({'Parameters':[], 'Sharpe':[]})\n",
    "parameters.set_index('Parameters', inplace=True)\n"
   ]
  },
  {
   "cell_type": "code",
   "execution_count": null,
   "id": "71ebd29d-8212-498b-9ff9-950c422d7c32",
   "metadata": {
    "scrolled": true
   },
   "outputs": [],
   "source": [
    "stock_data = PyTickerSymbols()\n",
    "sp500_symbols = stock_data.get_stocks_by_index('S&P 500')\n",
    "symbols = [stock['symbol'] for stock in sp500_symbols]\n",
    "\n",
    "sell = 70\n",
    "for buy in range(50,101):\n",
    "    daily = pd.DataFrame({'Date': []})\n",
    "    daily.set_index('Date', inplace=True)\n",
    "\n",
    "    for symbol in symbols:\n",
    "        try:\n",
    "            daily = portfolio_daily_returns(daily, symbol, buy, sell)\n",
    "        except IndexError:\n",
    "            pass\n",
    "\n",
    "    sharpe = calculate_portfolio_sharpe_ratio(daily)\n",
    "\n",
    "    \n",
    "    pars = str(buy) + \",\" + str(sell)\n",
    "    new_row = pd.DataFrame({'Sharpe': [sharpe]}, index=[pars])\n",
    "    parameters = pd.concat([parameters, new_row])\n",
    "    sell += 1"
   ]
  },
  {
   "cell_type": "code",
   "execution_count": null,
   "id": "fd5405a3-63aa-44bb-848c-fe2fa145be7f",
   "metadata": {
    "scrolled": true
   },
   "outputs": [],
   "source": [
    "parameters"
   ]
  },
  {
   "cell_type": "code",
   "execution_count": 11,
   "id": "f620f1ab-e481-45f5-937b-89988ce9987f",
   "metadata": {},
   "outputs": [],
   "source": [
    "parameters.to_csv('Parameter RSI sharpe test.csv', index=True)"
   ]
  }
 ],
 "metadata": {
  "kernelspec": {
   "display_name": "Python 3 (ipykernel)",
   "language": "python",
   "name": "python3"
  },
  "language_info": {
   "codemirror_mode": {
    "name": "ipython",
    "version": 3
   },
   "file_extension": ".py",
   "mimetype": "text/x-python",
   "name": "python",
   "nbconvert_exporter": "python",
   "pygments_lexer": "ipython3",
   "version": "3.12.7"
  }
 },
 "nbformat": 4,
 "nbformat_minor": 5
}
