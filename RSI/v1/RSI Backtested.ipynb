{
 "cells": [
  {
   "cell_type": "code",
   "execution_count": 1,
   "id": "6b3c3d27-d67c-40db-9877-9ef5532dc944",
   "metadata": {},
   "outputs": [],
   "source": [
    "import warnings\n",
    "warnings.simplefilter(action='ignore', category=FutureWarning)\n",
    "\n",
    "import yfinance as yf\n",
    "import pandas as pd\n",
    "import numpy as np\n",
    "import matplotlib.pyplot as plt\n",
    "\n",
    "from pytickersymbols import PyTickerSymbols\n",
    "\n",
    "pd.options.mode.chained_assignment = None  # default='warn'"
   ]
  },
  {
   "cell_type": "code",
   "execution_count": 2,
   "id": "a322fe7a-c585-4a48-9ca1-199e9f86bf9a",
   "metadata": {},
   "outputs": [],
   "source": [
    "#This Cell Block is all the functions for the strat. This is the only cell block that needs to be changed to backtest a different strategy.\n",
    "def RSI(data, window=14):\n",
    "    #daily_data = data.resample('D').last()\n",
    "    \n",
    "    delta = data['Close'].diff(1)\n",
    "    gain = delta.where(delta > 0, 0)\n",
    "    loss = -delta.where(delta < 0, 0)\n",
    "\n",
    "    avg_gain = gain.rolling(window=window, min_periods=1).mean()\n",
    "    avg_loss = loss.rolling(window=window, min_periods=1).mean()\n",
    "\n",
    "    rs = avg_gain / avg_loss\n",
    "    rsi = 100 - (100 / (1 + rs))\n",
    "    \n",
    "    return rsi\n",
    "\n",
    "def strat(ticker, period):   \n",
    "    # Download stock data from Yahoo Finance\n",
    "    data = yf.download(ticker, period = period, interval = \"1d\")\n",
    "    \n",
    "    # Calculate RSI and add it to the DataFrame\n",
    "    data['RSI'] = RSI(data)\n",
    "    \n",
    "    # Define the buy and sell conditions based on RSI\n",
    "    data['Signal'] = 0\n",
    "    data['Signal'][data['RSI'] > 53] = 1   # Buy signal\n",
    "    data['Signal'][data['RSI'] > 63] = -1  # Sell signal\n",
    "    \n",
    "    # Shift signals so we enter positions on the next day\n",
    "    data['Position'] = data['Signal'].shift(1)\n",
    "\n",
    "    # Initialize a holding counter\n",
    "    holding_counter = 0\n",
    "\n",
    "    data['Hold'] = 0\n",
    "    \n",
    "    # Loop through the data to check conditions and manage holding duration\n",
    "    for i in range(1, len(data)):\n",
    "        if data['Position'].iloc[i-1] == 1:  # Buy condition\n",
    "            holding_counter += 1\n",
    "            data['Hold'].iloc[i] = 1  # Hold the stock\n",
    "        elif data['Position'].iloc[i-1] == -1 or holding_counter >= 5:  # Sell condition or 5-day hold\n",
    "            data['Hold'].iloc[i] = 0  # Sell the stock\n",
    "            holding_counter = 0  # Reset counter after selling\n",
    "        else:\n",
    "            data['Hold'].iloc[i] = data['Hold'].iloc[i-1]  # Continue holding\n",
    "            \n",
    "    \n",
    "    \n",
    "    # Calculate daily returns\n",
    "    data['Daily Return'] = data['Close'].pct_change()\n",
    "    # Calculate strategy returns: Position * Daily Return\n",
    "    data['Strategy Return'] = data['Position'] * data['Daily Return']\n",
    "    \n",
    "    # Calculate cumulative returns\n",
    "    data['Cumulative Market Return'] = (1 + data['Daily Return']).cumprod() - 1\n",
    "    data['Cumulative Strategy Return'] = (1 + data['Strategy Return']).cumprod() - 1\n",
    "\n",
    "    total_strategy_return = data['Cumulative Strategy Return'].iloc[-1] * 100\n",
    "    total_strategy_return = \"{:.2f}%\".format(total_strategy_return)\n",
    "\n",
    "    print(data['Position'])\n",
    "    return total_strategy_return"
   ]
  },
  {
   "cell_type": "code",
   "execution_count": 3,
   "id": "2ec4b201-baf7-4723-a863-f1b69abf82af",
   "metadata": {},
   "outputs": [],
   "source": [
    "#The backtesting function to backtest the strat over different periods\n",
    "def backtest_strat(ticker):\n",
    "    backtest_data = {\n",
    "        'Asset': [ticker],\n",
    "        'YTD': [strat(ticker, \"ytd\")],\n",
    "        'Whole Period': [strat(ticker, \"max\")],\n",
    "        'Last 10Y': [strat(ticker, \"10y\")],\n",
    "        'Last 5Y': [strat(ticker, \"5y\")],\n",
    "        'Last 2Y': [strat(ticker, \"2y\")],\n",
    "        'Last 1Y': [strat(ticker, \"1y\")],\n",
    "        'Last 6M': [strat(ticker, \"6mo\")],\n",
    "        'Last 3M': [strat(ticker, \"3mo\")],\n",
    "        'Last 1M': [strat(ticker, \"1mo\")]    }\n",
    "    \n",
    "    # Create a pandas dataframe\n",
    "    backtest_df = pd.DataFrame(backtest_data)\n",
    "    \n",
    "    # Set the first column as the index for clarity\n",
    "    backtest_df.set_index('Asset', inplace=True)\n",
    "    return backtest_df"
   ]
  },
  {
   "cell_type": "code",
   "execution_count": 4,
   "id": "0043136b-c4ae-456a-a63b-82817612856d",
   "metadata": {},
   "outputs": [],
   "source": [
    "#Creates an empty dataframe to store the backtest data\n",
    "df =pd.DataFrame({\n",
    "        'Asset': [],'YTD': [], 'Whole Period': [], 'Last 10Y': [], 'Last 5Y': [], 'Last 2Y': [], 'Last 1Y': [], 'Last 6M': [], 'Last 3M': [], 'Last 1M': []\n",
    "    })\n",
    "\n",
    "df.set_index('Asset', inplace=True)"
   ]
  },
  {
   "cell_type": "code",
   "execution_count": null,
   "id": "78f14643-bb3d-4c49-825b-da2c3d7fdad9",
   "metadata": {
    "scrolled": true
   },
   "outputs": [],
   "source": [
    "#Fetching the tickers for the S&P 500\n",
    "#This will take like 10mins to execute\n",
    "stock_data = PyTickerSymbols()\n",
    "sp500_symbols = stock_data.get_stocks_by_index('S&P 500')\n",
    "\n",
    "#symbols = [stock['symbol'] for stock in sp500_symbols]\n",
    "symbols = [\"AAPL\", \"NVDA\"] #Test data\n",
    "\n",
    "#Running the stocks through the strat and backtesting functions\n",
    "for symbol in symbols:\n",
    "    try:\n",
    "        df = pd.concat([df, backtest_strat(symbol)])\n",
    "    except IndexError:\n",
    "        pass\n",
    "\n",
    "df"
   ]
  },
  {
   "cell_type": "code",
   "execution_count": 6,
   "id": "3ba6ae1e-d495-4c6b-adfa-be0b6fb2c62b",
   "metadata": {},
   "outputs": [],
   "source": [
    "#Saves the dataframe to a csv file. Edit the name\n",
    "df.to_csv('Optimum 53 63.csv', index=True)"
   ]
  }
 ],
 "metadata": {
  "kernelspec": {
   "display_name": "Python 3 (ipykernel)",
   "language": "python",
   "name": "python3"
  },
  "language_info": {
   "codemirror_mode": {
    "name": "ipython",
    "version": 3
   },
   "file_extension": ".py",
   "mimetype": "text/x-python",
   "name": "python",
   "nbconvert_exporter": "python",
   "pygments_lexer": "ipython3",
   "version": "3.12.7"
  }
 },
 "nbformat": 4,
 "nbformat_minor": 5
}
